{
  "nbformat": 4,
  "nbformat_minor": 0,
  "metadata": {
    "colab": {
      "provenance": [],
      "include_colab_link": true
    },
    "kernelspec": {
      "name": "python3",
      "display_name": "Python 3"
    },
    "language_info": {
      "name": "python"
    }
  },
  "cells": [
    {
      "cell_type": "markdown",
      "metadata": {
        "id": "view-in-github",
        "colab_type": "text"
      },
      "source": [
        "<a href=\"https://colab.research.google.com/github/Yash-Yelave/Recomendation_systems/blob/main/RS_PR_7.ipynb\" target=\"_parent\"><img src=\"https://colab.research.google.com/assets/colab-badge.svg\" alt=\"Open In Colab\"/></a>"
      ]
    },
    {
      "cell_type": "code",
      "execution_count": 1,
      "metadata": {
        "id": "ONdru94TV4-R"
      },
      "outputs": [],
      "source": [
        "import pandas as pd\n",
        "\n",
        "# Sample dataset of movies (ID, Title, Genre, Rating)\n",
        "data = {\n",
        "    'movie_id': [1, 2, 3, 4, 5, 6, 7],\n",
        "    'title': ['Inception', 'Avatar', 'The Matrix', 'Titanic', 'Interstellar', 'The Dark Knight', 'Gladiator'],\n",
        "    'genre': ['Sci-Fi', 'Action', 'Sci-Fi', 'Romance', 'Sci-Fi', 'Action', 'Action'],\n",
        "    'rating': [8.8, 7.8, 8.7, 7.9, 8.6, 9.0, 8.5]\n",
        "}\n"
      ]
    },
    {
      "cell_type": "code",
      "source": [
        "# Create a DataFrame\n",
        "df = pd.DataFrame(data)\n"
      ],
      "metadata": {
        "id": "zkjJwtJEYQBc"
      },
      "execution_count": 2,
      "outputs": []
    },
    {
      "cell_type": "code",
      "source": [
        "# Constraint-based recommendation system function\n",
        "def recommend_movies(df, min_rating=0, genre=None):\n",
        "    \"\"\"\n",
        "    Recommend movies based on user constraints (rating and genre).\n",
        "\n",
        "    :param df: DataFrame containing movie data\n",
        "    :param min_rating: Minimum rating for recommended movies\n",
        "    :param genre: Genre constraint for recommended movies (optional)\n",
        "    :return: Filtered DataFrame of recommended movies\n",
        "    \"\"\"\n",
        "    # Apply constraints\n",
        "    filtered_df = df[df['rating'] >= min_rating]\n",
        "\n",
        "    if genre:\n",
        "        filtered_df = filtered_df[filtered_df['genre'] == genre]\n",
        "\n",
        "    return filtered_df\n"
      ],
      "metadata": {
        "id": "HUOZWeQlYLDk"
      },
      "execution_count": 3,
      "outputs": []
    },
    {
      "cell_type": "code",
      "source": [
        "# Example constraints\n",
        "min_rating = 8.0\n",
        "genre = 'Sci-Fi'\n",
        "\n",
        "# Get recommendations based on the constraints\n",
        "recommended_movies = recommend_movies(df, min_rating, genre)\n",
        "\n",
        "# Display the recommended movies\n",
        "print(\"Recommended Movies Based on Constraints:\")\n",
        "print(recommended_movies[['movie_id', 'title', 'genre', 'rating']])\n"
      ],
      "metadata": {
        "colab": {
          "base_uri": "https://localhost:8080/"
        },
        "id": "pTP_HDDnYRES",
        "outputId": "ba2fa64f-d810-4f00-aa9b-e63f25c13588"
      },
      "execution_count": 4,
      "outputs": [
        {
          "output_type": "stream",
          "name": "stdout",
          "text": [
            "Recommended Movies Based on Constraints:\n",
            "   movie_id         title   genre  rating\n",
            "0         1     Inception  Sci-Fi     8.8\n",
            "2         3    The Matrix  Sci-Fi     8.7\n",
            "4         5  Interstellar  Sci-Fi     8.6\n"
          ]
        }
      ]
    },
    {
      "cell_type": "code",
      "source": [],
      "metadata": {
        "id": "Oh6SBK-aYT76"
      },
      "execution_count": 4,
      "outputs": []
    }
  ]
}