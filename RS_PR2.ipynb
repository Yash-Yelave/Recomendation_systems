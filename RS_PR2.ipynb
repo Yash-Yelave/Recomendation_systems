{
  "nbformat": 4,
  "nbformat_minor": 0,
  "metadata": {
    "colab": {
      "provenance": [],
      "mount_file_id": "1mzvAPQH00lqzHibg8WDFwD9c_2mntL3H",
      "authorship_tag": "ABX9TyPbw9lMFQjmaITTmFlvdI67",
      "include_colab_link": true
    },
    "kernelspec": {
      "name": "python3",
      "display_name": "Python 3"
    },
    "language_info": {
      "name": "python"
    }
  },
  "cells": [
    {
      "cell_type": "markdown",
      "metadata": {
        "id": "view-in-github",
        "colab_type": "text"
      },
      "source": [
        "<a href=\"https://colab.research.google.com/github/Yash-Yelave/Recomendation_systems/blob/main/RS_PR2.ipynb\" target=\"_parent\"><img src=\"https://colab.research.google.com/assets/colab-badge.svg\" alt=\"Open In Colab\"/></a>"
      ]
    },
    {
      "cell_type": "code",
      "execution_count": null,
      "metadata": {
        "id": "T8GsMZj0C6ci"
      },
      "outputs": [],
      "source": [
        "import pandas as pd\n",
        "\n",
        "# Sample data\n",
        "data =\n",
        "\n",
        "# {\n",
        "#     'user': ['A', 'A', 'B', 'B', 'C', 'C'],\n",
        "#     'item': ['Item1', 'Item2', 'Item1', 'Item3', 'Item2', 'Item3'],\n",
        "#     'rating': [5, 3, 4, 2, 4, 5]\n",
        "# }\n",
        "\n",
        "df = pd.DataFrame(data)\n",
        "\n",
        "# Create user-item matrix\n",
        "user_item_matrix = df.pivot_table(index='user', columns='item', values='rating')\n"
      ]
    },
    {
      "cell_type": "code",
      "source": [
        "from sklearn.metrics.pairwise import cosine_similarity\n",
        "\n",
        "# Fill NaNs with 0 for similarity calculation\n",
        "user_similarity = cosine_similarity(user_item_matrix.fillna(0))\n",
        "\n",
        "# Convert to DataFrame for easier interpretation\n",
        "similarity_df = pd.DataFrame(user_similarity, index=user_item_matrix.index, columns=user_item_matrix.index)\n"
      ],
      "metadata": {
        "id": "XpU7WLT0Ebmx"
      },
      "execution_count": null,
      "outputs": []
    },
    {
      "cell_type": "code",
      "source": [
        "def get_top_k_similar_users(user_id, k=2):\n",
        "    similar_users = similarity_df[user_id].drop(user_id)\n",
        "    return similar_users.sort_values(ascending=False).head(k)\n"
      ],
      "metadata": {
        "id": "P6Ktp9SHEeiy"
      },
      "execution_count": null,
      "outputs": []
    },
    {
      "cell_type": "code",
      "source": [
        "def predict_ratings(user_id, k=2):\n",
        "    similar_users = get_top_k_similar_users(user_id, k)\n",
        "    user_ratings = user_item_matrix.loc[user_id]\n",
        "\n",
        "    # Items not yet rated by user\n",
        "    unseen_items = user_ratings[user_ratings.isna()].index\n",
        "\n",
        "    predicted_ratings = {}\n",
        "\n",
        "    for item in unseen_items:\n",
        "        numerator = 0\n",
        "        denominator = 0\n",
        "        for sim_user, sim_score in similar_users.items():\n",
        "            if pd.notna(user_item_matrix.loc[sim_user, item]):\n",
        "                numerator += sim_score * user_item_matrix.loc[sim_user, item]\n",
        "                denominator += sim_score\n",
        "\n",
        "        if denominator != 0:\n",
        "            predicted_ratings[item] = numerator / denominator\n",
        "\n",
        "    return predicted_ratings\n"
      ],
      "metadata": {
        "id": "fC_ulkuMEgwS"
      },
      "execution_count": null,
      "outputs": []
    },
    {
      "cell_type": "code",
      "source": [
        "recommendations = predict_ratings('A', k=2)\n",
        "sorted_recommendations = sorted(recommendations.items(), key=lambda x: x[1], reverse=True)\n",
        "\n",
        "print(\"Recommendations for User A:\", sorted_recommendations)\n"
      ],
      "metadata": {
        "id": "gURgwkc9EiJK"
      },
      "execution_count": null,
      "outputs": []
    },
    {
      "cell_type": "code",
      "source": [
        "from surprise import Dataset, Reader, KNNBasic\n",
        "from surprise.model_selection import train_test_split\n",
        "\n",
        "# Load your data\n",
        "reader = Reader(rating_scale=(1, 5))\n",
        "data = Dataset.load_from_df(df[['user', 'item', 'rating']], reader)\n",
        "\n",
        "trainset, testset = train_test_split(data, test_size=0.2)\n",
        "\n",
        "# User-based CF\n",
        "sim_options = {\n",
        "    'name': 'cosine',\n",
        "    'user_based': True\n",
        "}\n",
        "\n",
        "algo = KNNBasic(sim_options=sim_options)\n",
        "algo.fit(trainset)\n",
        "\n",
        "# Predict\n",
        "predictions = algo.test(testset)\n"
      ],
      "metadata": {
        "id": "ihoMm0mFElY7"
      },
      "execution_count": null,
      "outputs": []
    }
  ]
}