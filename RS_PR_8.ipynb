{
  "nbformat": 4,
  "nbformat_minor": 0,
  "metadata": {
    "colab": {
      "provenance": [],
      "authorship_tag": "ABX9TyNUkHNqKpeb+s9Ooah1hEaf",
      "include_colab_link": true
    },
    "kernelspec": {
      "name": "python3",
      "display_name": "Python 3"
    },
    "language_info": {
      "name": "python"
    }
  },
  "cells": [
    {
      "cell_type": "markdown",
      "metadata": {
        "id": "view-in-github",
        "colab_type": "text"
      },
      "source": [
        "<a href=\"https://colab.research.google.com/github/Yash-Yelave/Recomendation_systems/blob/main/RS_PR_8.ipynb\" target=\"_parent\"><img src=\"https://colab.research.google.com/assets/colab-badge.svg\" alt=\"Open In Colab\"/></a>"
      ]
    },
    {
      "cell_type": "code",
      "execution_count": 1,
      "metadata": {
        "colab": {
          "base_uri": "https://localhost:8080/"
        },
        "id": "fup77EBRuwZj",
        "outputId": "5c380aa3-766f-4b66-b96a-2d5abca823af"
      },
      "outputs": [
        {
          "output_type": "stream",
          "name": "stdout",
          "text": [
            "Recommended Movies Based on User Criteria:\n",
            "   movie_id         title   genre           director  release_year\n",
            "0         1     Inception  Sci-Fi  Christopher Nolan          2010\n",
            "4         5  Interstellar  Sci-Fi  Christopher Nolan          2014\n"
          ]
        }
      ],
      "source": [
        "import pandas as pd\n",
        "\n",
        "# Sample dataset of movies (ID, Title, Genre, Director, Release Year)\n",
        "data = {\n",
        "    'movie_id': [1, 2, 3, 4, 5, 6, 7],\n",
        "    'title': ['Inception', 'Avatar', 'The Matrix', 'Titanic', 'Interstellar', 'The Dark Knight', 'Gladiator'],\n",
        "    'genre': ['Sci-Fi', 'Action', 'Sci-Fi', 'Romance', 'Sci-Fi', 'Action', 'Action'],\n",
        "    'director': ['Christopher Nolan', 'James Cameron', 'The Wachowskis', 'James Cameron', 'Christopher Nolan', 'Christopher Nolan', 'Ridley Scott'],\n",
        "    'release_year': [2010, 2009, 1999, 1997, 2014, 2008, 2000]\n",
        "}\n",
        "\n",
        "# Create a DataFrame\n",
        "df = pd.DataFrame(data)\n",
        "\n",
        "# Knowledge-based recommendation function\n",
        "def recommend_movies_by_criteria(df, genre=None, director=None, release_year=None):\n",
        "    \"\"\"\n",
        "    Recommend movies based on user criteria (genre, director, release year).\n",
        "\n",
        "    :param df: DataFrame containing movie data\n",
        "    :param genre: Genre constraint for recommended movies (optional)\n",
        "    :param director: Director constraint for recommended movies (optional)\n",
        "    :param release_year: Release year constraint for recommended movies (optional)\n",
        "    :return: Filtered DataFrame of recommended movies\n",
        "    \"\"\"\n",
        "    # Apply constraints\n",
        "    filtered_df = df\n",
        "\n",
        "    if genre:\n",
        "        filtered_df = filtered_df[filtered_df['genre'] == genre]\n",
        "\n",
        "    if director:\n",
        "        filtered_df = filtered_df[filtered_df['director'] == director]\n",
        "\n",
        "    if release_year:\n",
        "        filtered_df = filtered_df[filtered_df['release_year'] == release_year]\n",
        "\n",
        "    return filtered_df\n",
        "\n",
        "# Example user criteria\n",
        "genre = 'Sci-Fi'\n",
        "director = 'Christopher Nolan'\n",
        "\n",
        "# Get recommendations based on the user criteria\n",
        "recommended_movies = recommend_movies_by_criteria(df, genre=genre, director=director)\n",
        "\n",
        "# Display the recommended movies\n",
        "print(\"Recommended Movies Based on User Criteria:\")\n",
        "print(recommended_movies[['movie_id', 'title', 'genre', 'director', 'release_year']])\n"
      ]
    }
  ]
}