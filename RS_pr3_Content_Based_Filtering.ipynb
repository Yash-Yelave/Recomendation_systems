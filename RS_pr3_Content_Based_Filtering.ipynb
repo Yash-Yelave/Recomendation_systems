{
  "cells": [
    {
      "cell_type": "markdown",
      "metadata": {
        "id": "view-in-github",
        "colab_type": "text"
      },
      "source": [
        "<a href=\"https://colab.research.google.com/github/Yash-Yelave/Recomendation_systems/blob/main/RS_pr3_Content_Based_Filtering.ipynb\" target=\"_parent\"><img src=\"https://colab.research.google.com/assets/colab-badge.svg\" alt=\"Open In Colab\"/></a>"
      ]
    },
    {
      "cell_type": "code",
      "execution_count": 1,
      "id": "6429b7cb",
      "metadata": {
        "id": "6429b7cb"
      },
      "outputs": [],
      "source": [
        "import pandas as pd\n",
        "from sklearn.feature_extraction.text import TfidfVectorizer\n",
        "from sklearn.metrics.pairwise import cosine_similarity\n",
        "import kagglehub\n"
      ]
    },
    {
      "cell_type": "code",
      "source": [
        "from google.colab import drive\n",
        "drive.mount(\"/content/drive\")"
      ],
      "metadata": {
        "colab": {
          "base_uri": "https://localhost:8080/"
        },
        "id": "PdqHu-PNap3y",
        "outputId": "7cd2e269-5eb4-4df1-da04-4a8ea831a52b"
      },
      "id": "PdqHu-PNap3y",
      "execution_count": 2,
      "outputs": [
        {
          "output_type": "stream",
          "name": "stdout",
          "text": [
            "Mounted at /content/drive\n"
          ]
        }
      ]
    },
    {
      "cell_type": "code",
      "source": [
        "\n",
        "# Read the data\n",
        "movie_data = pd.read_csv('/content/drive/MyDrive/Engineering/Sem5/RS/PR3/movie_metadata.csv', low_memory=False)"
      ],
      "metadata": {
        "id": "ldmARXAADmeK"
      },
      "id": "ldmARXAADmeK",
      "execution_count": 3,
      "outputs": []
    },
    {
      "cell_type": "code",
      "execution_count": 4,
      "id": "27a46b65",
      "metadata": {
        "id": "27a46b65"
      },
      "outputs": [],
      "source": [
        "# Movie summary data, fill null value with empty string\n",
        "movie_summary = movie_data['plot_keywords'].fillna('')\n",
        "\n",
        "# Movie title data\n",
        "movie_title_data = movie_data['movie_title'].str.strip() # Strip whitespace here\n",
        "\n",
        "# Map movie title to its index\n",
        "movie_to_index = pd.Series(movie_data.index, index=movie_data['movie_title'].str.strip()).drop_duplicates() # Strip whitespace here as well"
      ]
    },
    {
      "cell_type": "code",
      "execution_count": 5,
      "id": "42f22f2e",
      "metadata": {
        "id": "42f22f2e"
      },
      "outputs": [],
      "source": [
        "tfidf = TfidfVectorizer(stop_words='english')\n",
        "movie_matrix= tfidf.fit_transform(movie_summary)"
      ]
    },
    {
      "cell_type": "code",
      "execution_count": 6,
      "id": "78df6535",
      "metadata": {
        "id": "78df6535",
        "outputId": "cc6a13f4-4cca-4b31-bb8f-e9ddee1cc788",
        "colab": {
          "base_uri": "https://localhost:8080/"
        }
      },
      "outputs": [
        {
          "output_type": "execute_result",
          "data": {
            "text/plain": [
              "(5043, 5997)"
            ]
          },
          "metadata": {},
          "execution_count": 6
        }
      ],
      "source": [
        "movie_matrix.shape"
      ]
    },
    {
      "cell_type": "code",
      "execution_count": 7,
      "id": "c207f21f",
      "metadata": {
        "id": "c207f21f"
      },
      "outputs": [],
      "source": [
        "movie_title = 'Furious 7'.strip() # Strip whitespace from the lookup title\n",
        "\n",
        "# Get the index of movie title\n",
        "idx = movie_to_index[movie_title]\n",
        "\n",
        "# Get the corresponding movie summary\n",
        "movie_test_summary = [movie_summary[idx]]"
      ]
    },
    {
      "cell_type": "code",
      "execution_count": 8,
      "id": "66dbea8d",
      "metadata": {
        "id": "66dbea8d",
        "outputId": "59b5a789-02c4-4df9-f2ee-22e5efffa030",
        "colab": {
          "base_uri": "https://localhost:8080/"
        }
      },
      "outputs": [
        {
          "output_type": "stream",
          "name": "stdout",
          "text": [
            "(1, 5997)\n"
          ]
        }
      ],
      "source": [
        "# Fetch the TF-IDF vector of the corresponding movie\n",
        "movie_test_matrix = tfidf.transform(movie_test_summary)\n",
        "print(movie_test_matrix.shape)"
      ]
    },
    {
      "cell_type": "code",
      "execution_count": 9,
      "id": "082dd607",
      "metadata": {
        "id": "082dd607",
        "outputId": "77b8a799-28f5-4e32-a1bf-05d4ae293269",
        "colab": {
          "base_uri": "https://localhost:8080/"
        }
      },
      "outputs": [
        {
          "output_type": "stream",
          "name": "stdout",
          "text": [
            "5043\n"
          ]
        }
      ],
      "source": [
        "# Calculate the cosine similarity between the movie and each of the entry in   # movie_matrix\n",
        "\n",
        "sim_scores = cosine_similarity(movie_test_matrix, movie_matrix).tolist()[0]\n",
        "print(len(sim_scores))"
      ]
    },
    {
      "cell_type": "code",
      "execution_count": 10,
      "id": "882991a9",
      "metadata": {
        "id": "882991a9"
      },
      "outputs": [],
      "source": [
        "sim_scores = sorted(enumerate(sim_scores), key=lambda i: i[1], reverse=True)\n",
        "\n",
        "\n",
        "# Fetch the top 10 recommended movies\n",
        "sim_scores = sim_scores[1:11]"
      ]
    },
    {
      "cell_type": "code",
      "execution_count": 11,
      "id": "eb8ba442",
      "metadata": {
        "id": "eb8ba442",
        "outputId": "e44c353f-fdd1-4bc1-ae27-2c9b4564683a",
        "colab": {
          "base_uri": "https://localhost:8080/"
        }
      },
      "outputs": [
        {
          "output_type": "stream",
          "name": "stdout",
          "text": [
            "['The Dark Knight', 'Night at the Museum: Secret of the Tomb', 'Born of War', 'The Last Exorcism Part II', 'A Perfect Getaway', 'Paparazzi', \"Cats Don't Dance\", 'The Little Vampire', 'Takers', 'Patriot Games']\n"
          ]
        }
      ],
      "source": [
        "# Fetch the recommended movies' indexes\n",
        "movie_indexes = [i[0] for i in sim_scores]\n",
        "\n",
        "# Print the title of recommended movies\n",
        "print([movie_title_data[i] for i in movie_indexes])"
      ]
    },
    {
      "cell_type": "code",
      "execution_count": 12,
      "id": "fcb25197",
      "metadata": {
        "id": "fcb25197"
      },
      "outputs": [],
      "source": [
        "def get_recommendation(movie_title, movie_matrix=movie_matrix):\n",
        "\n",
        "  # Get the index of movie title\n",
        "  idx = movie_to_index[movie_title]\n",
        "\n",
        "  # Get the corresponding movie summary\n",
        "  movie_test_summary = [movie_summary[idx]]\n",
        "\n",
        "  # Fetch the TF-IDF vector of the corresponding movie\n",
        "  movie_test_matrix = tfidf.transform(movie_test_summary)\n",
        "\n",
        "  # Calculate the cosine similarity between the movie and each of the entry in                                 #   movie_matrix\n",
        "\n",
        "  sim_scores = cosine_similarity(movie_test_matrix, movie_matrix).tolist()[0]\n",
        "  sim_scores = sorted(enumerate(sim_scores), key=lambda i: i[1], reverse=True)\n",
        "\n",
        "  # Fetch the top 10 recommended movies\n",
        "  sim_scores = sim_scores[1:11]\n",
        "\n",
        "  # Fetch the recommended movies' indexes\n",
        "  movie_indexes = [i[0] for i in sim_scores]\n",
        "\n",
        "  # Return the title of recommended movies\n",
        "  return [movie_title_data[i] for i in movie_indexes]"
      ]
    },
    {
      "cell_type": "code",
      "execution_count": 13,
      "id": "9e8858c4",
      "metadata": {
        "id": "9e8858c4",
        "outputId": "8d5b8dba-59d5-4496-a398-ed90cf0e4c90",
        "colab": {
          "base_uri": "https://localhost:8080/"
        }
      },
      "outputs": [
        {
          "output_type": "execute_result",
          "data": {
            "text/plain": [
              "['A Lego Brickumentary',\n",
              " 'Down in the Valley',\n",
              " 'X-Men Origins: Wolverine',\n",
              " 'Inspector Gadget',\n",
              " 'Toy Story 2',\n",
              " 'Envy',\n",
              " 'Roadside',\n",
              " 'The End of the Affair',\n",
              " 'Big',\n",
              " 'Animals United']"
            ]
          },
          "metadata": {},
          "execution_count": 13
        }
      ],
      "source": [
        "get_recommendation('Toy Story')"
      ]
    }
  ],
  "metadata": {
    "kernelspec": {
      "display_name": "Python 3 (ipykernel)",
      "language": "python",
      "name": "python3"
    },
    "language_info": {
      "codemirror_mode": {
        "name": "ipython",
        "version": 3
      },
      "file_extension": ".py",
      "mimetype": "text/x-python",
      "name": "python",
      "nbconvert_exporter": "python",
      "pygments_lexer": "ipython3",
      "version": "3.11.5"
    },
    "colab": {
      "provenance": [],
      "include_colab_link": true
    }
  },
  "nbformat": 4,
  "nbformat_minor": 5
}