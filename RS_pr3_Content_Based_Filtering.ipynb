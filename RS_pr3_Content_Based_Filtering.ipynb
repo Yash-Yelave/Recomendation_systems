{
  "cells": [
    {
      "cell_type": "markdown",
      "metadata": {
        "id": "view-in-github",
        "colab_type": "text"
      },
      "source": [
        "<a href=\"https://colab.research.google.com/github/Yash-Yelave/Recomendation_systems/blob/main/RS_pr3_Content_Based_Filtering.ipynb\" target=\"_parent\"><img src=\"https://colab.research.google.com/assets/colab-badge.svg\" alt=\"Open In Colab\"/></a>"
      ]
    },
    {
      "cell_type": "code",
      "execution_count": 1,
      "id": "6429b7cb",
      "metadata": {
        "id": "6429b7cb"
      },
      "outputs": [],
      "source": [
        "import pandas as pd\n",
        "from sklearn.feature_extraction.text import TfidfVectorizer\n",
        "from sklearn.metrics.pairwise import cosine_similarity\n"
      ]
    },
    {
      "cell_type": "code",
      "source": [
        "from google.colab import drive\n",
        "drive.mount(\"/content/drive\")"
      ],
      "metadata": {
        "colab": {
          "base_uri": "https://localhost:8080/"
        },
        "id": "PdqHu-PNap3y",
        "outputId": "4714167d-52f9-4f0b-d7d6-05b438c95403"
      },
      "id": "PdqHu-PNap3y",
      "execution_count": 3,
      "outputs": [
        {
          "output_type": "stream",
          "name": "stdout",
          "text": [
            "Drive already mounted at /content/drive; to attempt to forcibly remount, call drive.mount(\"/content/drive\", force_remount=True).\n"
          ]
        }
      ]
    },
    {
      "cell_type": "code",
      "source": [
        "\n",
        "# Read the data\n",
        "movie_data = pd.read_csv('/content/drive/MyDrive/Engineering/Sem5/RS/dataset/movies_metadata.csv', low_memory=False)"
      ],
      "metadata": {
        "id": "ldmARXAADmeK"
      },
      "id": "ldmARXAADmeK",
      "execution_count": null,
      "outputs": []
    },
    {
      "cell_type": "code",
      "execution_count": null,
      "id": "27a46b65",
      "metadata": {
        "id": "27a46b65"
      },
      "outputs": [],
      "source": [
        "# Movie summary data, fill null value with empty string\n",
        "movie_summary = movie_data['overview'].fillna('')\n",
        "\n",
        "# Movie title data\n",
        "movie_title_data = movie_data['original_title']\n",
        "\n",
        "# Map movie title to its index\n",
        "movie_to_index = pd.Series(movie_data.index, index=movie_data['title']).drop_duplicates()"
      ]
    },
    {
      "cell_type": "code",
      "execution_count": null,
      "id": "42f22f2e",
      "metadata": {
        "id": "42f22f2e"
      },
      "outputs": [],
      "source": [
        "tfidf = TfidfVectorizer(stop_words='english')\n",
        "movie_matrix= tfidf.fit_transform(movie_summary)"
      ]
    },
    {
      "cell_type": "code",
      "execution_count": null,
      "id": "78df6535",
      "metadata": {
        "id": "78df6535",
        "outputId": "b9d67a68-956e-41d1-8722-d5fb1451ac67"
      },
      "outputs": [
        {
          "data": {
            "text/plain": [
              "(45466, 75827)"
            ]
          },
          "execution_count": 21,
          "metadata": {},
          "output_type": "execute_result"
        }
      ],
      "source": [
        "movie_matrix.shape"
      ]
    },
    {
      "cell_type": "code",
      "execution_count": null,
      "id": "c207f21f",
      "metadata": {
        "id": "c207f21f"
      },
      "outputs": [],
      "source": [
        "movie_title = 'Furious 7'\n",
        "\n",
        "# Get the index of movie title\n",
        "idx = movie_to_index[movie_title]\n",
        "\n",
        "# Get the corresponding movie summary\n",
        "movie_test_summary = [movie_summary[idx]]"
      ]
    },
    {
      "cell_type": "code",
      "execution_count": null,
      "id": "66dbea8d",
      "metadata": {
        "id": "66dbea8d",
        "outputId": "c2d66b56-50a9-472d-9c36-778983b2a664"
      },
      "outputs": [
        {
          "name": "stdout",
          "output_type": "stream",
          "text": [
            "(1, 75827)\n"
          ]
        }
      ],
      "source": [
        "# Fetch the TF-IDF vector of the corresponding movie\n",
        "movie_test_matrix = tfidf.transform(movie_test_summary)\n",
        "print(movie_test_matrix.shape)"
      ]
    },
    {
      "cell_type": "code",
      "execution_count": null,
      "id": "082dd607",
      "metadata": {
        "id": "082dd607",
        "outputId": "9daf2d10-9adb-4b99-c327-54bf51aeb793"
      },
      "outputs": [
        {
          "name": "stdout",
          "output_type": "stream",
          "text": [
            "45466\n"
          ]
        }
      ],
      "source": [
        "# Calculate the cosine similarity between the movie and each of the entry in   # movie_matrix\n",
        "\n",
        "sim_scores = cosine_similarity(movie_test_matrix, movie_matrix).tolist()[0]\n",
        "print(len(sim_scores))"
      ]
    },
    {
      "cell_type": "code",
      "execution_count": null,
      "id": "882991a9",
      "metadata": {
        "id": "882991a9"
      },
      "outputs": [],
      "source": [
        "sim_scores = sorted(enumerate(sim_scores), key=lambda i: i[1], reverse=True)\n",
        "\n",
        "\n",
        "# Fetch the top 10 recommended movies\n",
        "sim_scores = sim_scores[1:11]"
      ]
    },
    {
      "cell_type": "code",
      "execution_count": null,
      "id": "eb8ba442",
      "metadata": {
        "id": "eb8ba442",
        "outputId": "be8e6acf-4b03-44a4-b239-f1dabcc947d8"
      },
      "outputs": [
        {
          "name": "stdout",
          "output_type": "stream",
          "text": [
            "['The Fast and the Furious', 'Fast & Furious 6', 'Los violadores', 'Fast Five', 'Genius on Hold', 'Youth Without Youth', 'The Skydivers', 'Aenigma', 'The Cell', 'Urban Justice']\n"
          ]
        }
      ],
      "source": [
        "# Fetch the recommended movies' indexes\n",
        "movie_indexes = [i[0] for i in sim_scores]\n",
        "\n",
        "# Print the title of recommended movies\n",
        "print([movie_title_data[i] for i in movie_indexes])"
      ]
    },
    {
      "cell_type": "code",
      "execution_count": null,
      "id": "fcb25197",
      "metadata": {
        "id": "fcb25197"
      },
      "outputs": [],
      "source": [
        "def get_recommendation(movie_title, movie_matrix=movie_matrix):\n",
        "\n",
        "  # Get the index of movie title\n",
        "  idx = movie_to_index[movie_title]\n",
        "\n",
        "  # Get the corresponding movie summary\n",
        "  movie_test_summary = [movie_summary[idx]]\n",
        "\n",
        "  # Fetch the TF-IDF vector of the corresponding movie\n",
        "  movie_test_matrix = tfidf.transform(movie_test_summary)\n",
        "\n",
        "  # Calculate the cosine similarity between the movie and each of the entry in                                 #   movie_matrix\n",
        "\n",
        "  sim_scores = cosine_similarity(movie_test_matrix, movie_matrix).tolist()[0]\n",
        "  sim_scores = sorted(enumerate(sim_scores), key=lambda i: i[1], reverse=True)\n",
        "\n",
        "  # Fetch the top 10 recommended movies\n",
        "  sim_scores = sim_scores[1:11]\n",
        "\n",
        "  # Fetch the recommended movies' indexes\n",
        "  movie_indexes = [i[0] for i in sim_scores]\n",
        "\n",
        "  # Return the title of recommended movies\n",
        "  return [movie_title_data[i] for i in movie_indexes]"
      ]
    },
    {
      "cell_type": "code",
      "execution_count": null,
      "id": "9e8858c4",
      "metadata": {
        "id": "9e8858c4",
        "outputId": "b1ce1b49-58c3-4db1-dfe4-c258d653aaec"
      },
      "outputs": [
        {
          "data": {
            "text/plain": [
              "['Toy Story 3',\n",
              " 'Toy Story 2',\n",
              " 'The 40 Year Old Virgin',\n",
              " 'Small Fry',\n",
              " \"Andy Hardy's Blonde Trouble\",\n",
              " 'Hot Splash',\n",
              " 'Andy Kaufman Plays Carnegie Hall',\n",
              " 'Superstar: The Life and Times of Andy Warhol',\n",
              " 'Andy Peters: Exclamation Mark Question Point',\n",
              " 'The Champ']"
            ]
          },
          "execution_count": 31,
          "metadata": {},
          "output_type": "execute_result"
        }
      ],
      "source": [
        "get_recommendation('Toy Story')"
      ]
    }
  ],
  "metadata": {
    "kernelspec": {
      "display_name": "Python 3 (ipykernel)",
      "language": "python",
      "name": "python3"
    },
    "language_info": {
      "codemirror_mode": {
        "name": "ipython",
        "version": 3
      },
      "file_extension": ".py",
      "mimetype": "text/x-python",
      "name": "python",
      "nbconvert_exporter": "python",
      "pygments_lexer": "ipython3",
      "version": "3.11.5"
    },
    "colab": {
      "provenance": [],
      "include_colab_link": true
    }
  },
  "nbformat": 4,
  "nbformat_minor": 5
}